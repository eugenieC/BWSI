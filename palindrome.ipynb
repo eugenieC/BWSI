# Is it a palindrome?

A palindrome is a word, phrase, or sequence that reads the same backward as forward, e.g., madam or nurses run.

Write code that takes a string and returns `True` if that string is a palindrome. Your analysis should be case-insensitive and should disregard spaces. E.g. "Race car" should be considered a palindrome, despite beginning with a capitalized letter and containing a space. None of the strings will contain punctuation. Thus your function should produce the following behavior:

- "Are we not drawn onward to new era" -> True
- "batman" -> False

## Required Concepts
Basic Object Types
- strings
- checking equality

Sequence Types
- slicing

## Examples
```python
>>> student_func("Race car")
True

>>> student_func("RaCeCaR")
True

>>> student_func("apple")
False
```

def student_func(x):
  # `x` is a string
  # this function should return either `True` or `False`

  # make case-insensitive and remove space
  x = x.lower().replace(" ","")

  # find the half way point
  if (len(x) % 2) == 1:
    half = int((len(x) - 1)/2)
  else:
    half = int(len(x)/2)
  
  # compare the paired character
  for i in range(0,half):
    if x[i] != x[len(x)-1-i]:
      return False

  return True
  pass

from bwsi_grader.python.palindrome import grader
grader(student_func)
